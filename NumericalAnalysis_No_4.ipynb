{
  "nbformat": 4,
  "nbformat_minor": 0,
  "metadata": {
    "colab": {
      "name": "NumericalAnalysis_No.4.ipynb",
      "provenance": [],
      "collapsed_sections": [],
      "toc_visible": true,
      "authorship_tag": "ABX9TyPBXD/GJ/CcjsoaM5bRC3ER",
      "include_colab_link": true
    },
    "kernelspec": {
      "name": "python3",
      "display_name": "Python 3"
    },
    "language_info": {
      "name": "python"
    }
  },
  "cells": [
    {
      "cell_type": "markdown",
      "metadata": {
        "id": "view-in-github",
        "colab_type": "text"
      },
      "source": [
        "<a href=\"https://colab.research.google.com/github/Ryoya1012/Numerical_Analysis2/blob/main/NumericalAnalysis_No_4.ipynb\" target=\"_parent\"><img src=\"https://colab.research.google.com/assets/colab-badge.svg\" alt=\"Open In Colab\"/></a>"
      ]
    },
    {
      "cell_type": "markdown",
      "source": [
        "#機械学習入門第１回課題\n",
        " 20C1050 佐藤 涼耶"
      ],
      "metadata": {
        "id": "TnVkgKyf21H4"
      }
    },
    {
      "cell_type": "markdown",
      "source": [
        "#内容\n",
        " 素数を求めるプログラム作成\n",
        "#素数の定義\n",
        " 2 以上の自然数で、正の約数が 1 と自分自身のみであるもののことである"
      ],
      "metadata": {
        "id": "ME-8_txk2_sG"
      }
    },
    {
      "cell_type": "markdown",
      "source": [
        "##プログラムの内容\n",
        " 2以上100未満の正の整数からすべての素数を抽出するプログラム"
      ],
      "metadata": {
        "id": "YGzNv-BP4fCo"
      }
    },
    {
      "cell_type": "code",
      "source": [
        "limit = 100\n",
        "for i in range(2,limit):\n",
        "  for j in range(2,i):\n",
        "    if i % j == 0:\n",
        "      break\n",
        "  else:\n",
        "    print(i, end=\" \")"
      ],
      "metadata": {
        "colab": {
          "base_uri": "https://localhost:8080/"
        },
        "id": "muvMcaJv41AZ",
        "outputId": "ef043b6f-3d80-4a7d-e921-68bca6715a52"
      },
      "execution_count": null,
      "outputs": [
        {
          "output_type": "stream",
          "name": "stdout",
          "text": [
            "2 3 5 7 11 13 17 19 23 29 31 37 41 43 47 53 59 61 67 71 73 79 83 89 97 "
          ]
        }
      ]
    }
  ]
}